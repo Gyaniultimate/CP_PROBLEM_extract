{
  "nbformat": 4,
  "nbformat_minor": 0,
  "metadata": {
    "colab": {
      "name": "Untitled17.ipynb",
      "provenance": []
    },
    "kernelspec": {
      "name": "python3",
      "display_name": "Python 3"
    },
    "language_info": {
      "name": "python"
    }
  },
  "cells": [
    {
      "cell_type": "code",
      "source": [
        ""
      ],
      "metadata": {
        "colab": {
          "base_uri": "https://localhost:8080/",
          "height": 131
        },
        "id": "dIn4TkqFC2dS",
        "outputId": "a56d99fd-5711-48e3-b515-8f9cebf0b301"
      },
      "execution_count": 56,
      "outputs": [
        {
          "output_type": "error",
          "ename": "SyntaxError",
          "evalue": "ignored",
          "traceback": [
            "\u001b[0;36m  File \u001b[0;32m\"<ipython-input-56-e4857e02ffa8>\"\u001b[0;36m, line \u001b[0;32m1\u001b[0m\n\u001b[0;31m    https://codeforces.com/api/user.status?handle=_Satoru_&from=1&count=1177\u001b[0m\n\u001b[0m           ^\u001b[0m\n\u001b[0;31mSyntaxError\u001b[0m\u001b[0;31m:\u001b[0m invalid syntax\n"
          ]
        }
      ]
    },
    {
      "cell_type": "markdown",
      "source": [
        "https://www.convertcsv.com/json-to-csv.htm  "
      ],
      "metadata": {
        "id": "REp_jjZeDHCL"
      }
    },
    {
      "cell_type": "markdown",
      "source": [
        "API format: https://codeforces.com/api/user.status?handle=_Satoru_&from=1&count=1177  "
      ],
      "metadata": {
        "id": "5T8_rKjoC-qg"
      }
    },
    {
      "cell_type": "code",
      "execution_count": 46,
      "metadata": {
        "id": "S_V825YNy1CD"
      },
      "outputs": [],
      "source": [
        "import pandas as pd\n",
        "df = pd.read_csv(\"/shanks.csv\")\n",
        "df.columns\n",
        "df=df.drop(['status', 'result__id', 'result__contestId',\n",
        "       'result__creationTimeSeconds', 'result__relativeTimeSeconds', 'result__problem__index',\n",
        "       'result__problem__points',\n",
        "       'result__problem__tags__003', 'result__problem__tags__004',\n",
        "       'result__problem__tags__005', 'result__problem__tags__006',\n",
        "       'result__problem__tags__007', 'result__problem__tags__008',\n",
        "       'result__author__contestId', 'result__author__ghost',\n",
        "       'result__author__room', 'result__author__startTimeSeconds',\n",
        "       'result__programmingLanguage', 'result__testset',\n",
        "       'result__passedTestCount', 'result__timeConsumedMillis',\n",
        "       'result__memoryConsumedBytes'],axis=1)"
      ]
    },
    {
      "cell_type": "markdown",
      "source": [
        ""
      ],
      "metadata": {
        "id": "EZYSGHtEC28U"
      }
    },
    {
      "cell_type": "code",
      "source": [
        "df=df.drop('result__problem__type',axis=1)"
      ],
      "metadata": {
        "id": "dzg9MGxy0sdE"
      },
      "execution_count": 47,
      "outputs": []
    },
    {
      "cell_type": "code",
      "source": [
        "df.columns"
      ],
      "metadata": {
        "colab": {
          "base_uri": "https://localhost:8080/"
        },
        "id": "42Cwbv9z0z3j",
        "outputId": "03c8ac8e-8044-4254-a7f6-3164ec38a49a"
      },
      "execution_count": 48,
      "outputs": [
        {
          "output_type": "execute_result",
          "data": {
            "text/plain": [
              "Index(['result__problem__contestId', 'result__problem__name',\n",
              "       'result__problem__rating', 'result__problem__tags__001',\n",
              "       'result__problem__tags__002', 'result__problem__tags__009',\n",
              "       'result__author__members__handle', 'result__author__participantType',\n",
              "       'result__verdict'],\n",
              "      dtype='object')"
            ]
          },
          "metadata": {},
          "execution_count": 48
        }
      ]
    },
    {
      "cell_type": "code",
      "source": [
        "df_filtered = df[df['result__problem__rating'] > 1200]\n"
      ],
      "metadata": {
        "id": "Bixh-em_1Jlj"
      },
      "execution_count": 49,
      "outputs": []
    },
    {
      "cell_type": "code",
      "source": [
        "df=df_filtered.drop_duplicates(subset=[\"result__problem__name\"], keep=\"first\")"
      ],
      "metadata": {
        "id": "3-TJ2xHc1lZs"
      },
      "execution_count": 50,
      "outputs": []
    },
    {
      "cell_type": "code",
      "source": [
        ""
      ],
      "metadata": {
        "id": "YUgqxngu4MD5"
      },
      "execution_count": 50,
      "outputs": []
    },
    {
      "cell_type": "code",
      "source": [
        ""
      ],
      "metadata": {
        "id": "_kRhcqn72jjF"
      },
      "execution_count": 50,
      "outputs": []
    },
    {
      "cell_type": "code",
      "source": [
        "\n"
      ],
      "metadata": {
        "id": "y1Mt8yR63R9o"
      },
      "execution_count": 50,
      "outputs": []
    },
    {
      "cell_type": "code",
      "source": [
        "from google.colab import  drive\n",
        "drive.mount('/drive')\n",
        "\n",
        "\n"
      ],
      "metadata": {
        "colab": {
          "base_uri": "https://localhost:8080/"
        },
        "id": "63KS2lY72x2n",
        "outputId": "0fc5bada-3a45-4eac-b6ec-b38c4cbd6739"
      },
      "execution_count": 51,
      "outputs": [
        {
          "output_type": "stream",
          "name": "stdout",
          "text": [
            "Drive already mounted at /drive; to attempt to forcibly remount, call drive.mount(\"/drive\", force_remount=True).\n"
          ]
        }
      ]
    },
    {
      "cell_type": "code",
      "source": [
        "\n",
        "\n"
      ],
      "metadata": {
        "id": "2jxKoAM03kaN"
      },
      "execution_count": 51,
      "outputs": []
    },
    {
      "cell_type": "code",
      "source": [
        ""
      ],
      "metadata": {
        "id": "o0ZLEweq4NVG"
      },
      "execution_count": 51,
      "outputs": []
    },
    {
      "cell_type": "code",
      "source": [
        "df.reset_index(drop=True, inplace=True)\n"
      ],
      "metadata": {
        "id": "8KZfFzYg5O-A"
      },
      "execution_count": 52,
      "outputs": []
    },
    {
      "cell_type": "code",
      "source": [
        "df\n"
      ],
      "metadata": {
        "colab": {
          "base_uri": "https://localhost:8080/",
          "height": 488
        },
        "id": "5I6JKt745QMY",
        "outputId": "a72791e8-4d7c-4fdc-e955-8541bbeeceb4"
      },
      "execution_count": 53,
      "outputs": [
        {
          "output_type": "execute_result",
          "data": {
            "text/plain": [
              "     result__problem__contestId   result__problem__name  \\\n",
              "0                          1691             Max GEQ Sum   \n",
              "1                          1691       Sum of Substrings   \n",
              "2                          1681         Required Length   \n",
              "3                          1684                   Traps   \n",
              "4                          1684         Column Swapping   \n",
              "..                          ...                     ...   \n",
              "307                        1281     Azamon Web Services   \n",
              "308                         576  Vasya and Petya's Game   \n",
              "309                         328  Sheldon and Ice Pieces   \n",
              "310                        1327         Game with Chips   \n",
              "311                        1422             Nice Matrix   \n",
              "\n",
              "     result__problem__rating result__problem__tags__001  \\\n",
              "0                       1800              binary search   \n",
              "1                       1400                brute force   \n",
              "2                       1700                brute force   \n",
              "3                       1700    constructive algorithms   \n",
              "4                       1400                brute force   \n",
              "..                       ...                        ...   \n",
              "307                     1600                     greedy   \n",
              "308                     1500                       math   \n",
              "309                     1500                     greedy   \n",
              "310                     1600    constructive algorithms   \n",
              "311                     1300                     greedy   \n",
              "\n",
              "    result__problem__tags__002 result__problem__tags__009  \\\n",
              "0      constructive algorithms                        NaN   \n",
              "1      constructive algorithms                        NaN   \n",
              "2              dfs and similar                        NaN   \n",
              "3                       greedy                        NaN   \n",
              "4      constructive algorithms                        NaN   \n",
              "..                         ...                        ...   \n",
              "307                        NaN                        NaN   \n",
              "308              number theory                        NaN   \n",
              "309                        NaN                        NaN   \n",
              "310             implementation                        NaN   \n",
              "311             implementation                        NaN   \n",
              "\n",
              "    result__author__members__handle result__author__participantType  \\\n",
              "0                     cooler_killer                      CONTESTANT   \n",
              "1                     cooler_killer                      CONTESTANT   \n",
              "2                     cooler_killer                        PRACTICE   \n",
              "3                     cooler_killer                        PRACTICE   \n",
              "4                     cooler_killer                      CONTESTANT   \n",
              "..                              ...                             ...   \n",
              "307                   cooler_killer                        PRACTICE   \n",
              "308                   cooler_killer                        PRACTICE   \n",
              "309                   cooler_killer                        PRACTICE   \n",
              "310                   cooler_killer                        PRACTICE   \n",
              "311                   cooler_killer                      CONTESTANT   \n",
              "\n",
              "    result__verdict  \n",
              "0                OK  \n",
              "1                OK  \n",
              "2                OK  \n",
              "3                OK  \n",
              "4                OK  \n",
              "..              ...  \n",
              "307              OK  \n",
              "308              OK  \n",
              "309              OK  \n",
              "310              OK  \n",
              "311              OK  \n",
              "\n",
              "[312 rows x 9 columns]"
            ],
            "text/html": [
              "\n",
              "  <div id=\"df-929839bf-632e-4f10-8d7f-c305f164b94d\">\n",
              "    <div class=\"colab-df-container\">\n",
              "      <div>\n",
              "<style scoped>\n",
              "    .dataframe tbody tr th:only-of-type {\n",
              "        vertical-align: middle;\n",
              "    }\n",
              "\n",
              "    .dataframe tbody tr th {\n",
              "        vertical-align: top;\n",
              "    }\n",
              "\n",
              "    .dataframe thead th {\n",
              "        text-align: right;\n",
              "    }\n",
              "</style>\n",
              "<table border=\"1\" class=\"dataframe\">\n",
              "  <thead>\n",
              "    <tr style=\"text-align: right;\">\n",
              "      <th></th>\n",
              "      <th>result__problem__contestId</th>\n",
              "      <th>result__problem__name</th>\n",
              "      <th>result__problem__rating</th>\n",
              "      <th>result__problem__tags__001</th>\n",
              "      <th>result__problem__tags__002</th>\n",
              "      <th>result__problem__tags__009</th>\n",
              "      <th>result__author__members__handle</th>\n",
              "      <th>result__author__participantType</th>\n",
              "      <th>result__verdict</th>\n",
              "    </tr>\n",
              "  </thead>\n",
              "  <tbody>\n",
              "    <tr>\n",
              "      <th>0</th>\n",
              "      <td>1691</td>\n",
              "      <td>Max GEQ Sum</td>\n",
              "      <td>1800</td>\n",
              "      <td>binary search</td>\n",
              "      <td>constructive algorithms</td>\n",
              "      <td>NaN</td>\n",
              "      <td>cooler_killer</td>\n",
              "      <td>CONTESTANT</td>\n",
              "      <td>OK</td>\n",
              "    </tr>\n",
              "    <tr>\n",
              "      <th>1</th>\n",
              "      <td>1691</td>\n",
              "      <td>Sum of Substrings</td>\n",
              "      <td>1400</td>\n",
              "      <td>brute force</td>\n",
              "      <td>constructive algorithms</td>\n",
              "      <td>NaN</td>\n",
              "      <td>cooler_killer</td>\n",
              "      <td>CONTESTANT</td>\n",
              "      <td>OK</td>\n",
              "    </tr>\n",
              "    <tr>\n",
              "      <th>2</th>\n",
              "      <td>1681</td>\n",
              "      <td>Required Length</td>\n",
              "      <td>1700</td>\n",
              "      <td>brute force</td>\n",
              "      <td>dfs and similar</td>\n",
              "      <td>NaN</td>\n",
              "      <td>cooler_killer</td>\n",
              "      <td>PRACTICE</td>\n",
              "      <td>OK</td>\n",
              "    </tr>\n",
              "    <tr>\n",
              "      <th>3</th>\n",
              "      <td>1684</td>\n",
              "      <td>Traps</td>\n",
              "      <td>1700</td>\n",
              "      <td>constructive algorithms</td>\n",
              "      <td>greedy</td>\n",
              "      <td>NaN</td>\n",
              "      <td>cooler_killer</td>\n",
              "      <td>PRACTICE</td>\n",
              "      <td>OK</td>\n",
              "    </tr>\n",
              "    <tr>\n",
              "      <th>4</th>\n",
              "      <td>1684</td>\n",
              "      <td>Column Swapping</td>\n",
              "      <td>1400</td>\n",
              "      <td>brute force</td>\n",
              "      <td>constructive algorithms</td>\n",
              "      <td>NaN</td>\n",
              "      <td>cooler_killer</td>\n",
              "      <td>CONTESTANT</td>\n",
              "      <td>OK</td>\n",
              "    </tr>\n",
              "    <tr>\n",
              "      <th>...</th>\n",
              "      <td>...</td>\n",
              "      <td>...</td>\n",
              "      <td>...</td>\n",
              "      <td>...</td>\n",
              "      <td>...</td>\n",
              "      <td>...</td>\n",
              "      <td>...</td>\n",
              "      <td>...</td>\n",
              "      <td>...</td>\n",
              "    </tr>\n",
              "    <tr>\n",
              "      <th>307</th>\n",
              "      <td>1281</td>\n",
              "      <td>Azamon Web Services</td>\n",
              "      <td>1600</td>\n",
              "      <td>greedy</td>\n",
              "      <td>NaN</td>\n",
              "      <td>NaN</td>\n",
              "      <td>cooler_killer</td>\n",
              "      <td>PRACTICE</td>\n",
              "      <td>OK</td>\n",
              "    </tr>\n",
              "    <tr>\n",
              "      <th>308</th>\n",
              "      <td>576</td>\n",
              "      <td>Vasya and Petya's Game</td>\n",
              "      <td>1500</td>\n",
              "      <td>math</td>\n",
              "      <td>number theory</td>\n",
              "      <td>NaN</td>\n",
              "      <td>cooler_killer</td>\n",
              "      <td>PRACTICE</td>\n",
              "      <td>OK</td>\n",
              "    </tr>\n",
              "    <tr>\n",
              "      <th>309</th>\n",
              "      <td>328</td>\n",
              "      <td>Sheldon and Ice Pieces</td>\n",
              "      <td>1500</td>\n",
              "      <td>greedy</td>\n",
              "      <td>NaN</td>\n",
              "      <td>NaN</td>\n",
              "      <td>cooler_killer</td>\n",
              "      <td>PRACTICE</td>\n",
              "      <td>OK</td>\n",
              "    </tr>\n",
              "    <tr>\n",
              "      <th>310</th>\n",
              "      <td>1327</td>\n",
              "      <td>Game with Chips</td>\n",
              "      <td>1600</td>\n",
              "      <td>constructive algorithms</td>\n",
              "      <td>implementation</td>\n",
              "      <td>NaN</td>\n",
              "      <td>cooler_killer</td>\n",
              "      <td>PRACTICE</td>\n",
              "      <td>OK</td>\n",
              "    </tr>\n",
              "    <tr>\n",
              "      <th>311</th>\n",
              "      <td>1422</td>\n",
              "      <td>Nice Matrix</td>\n",
              "      <td>1300</td>\n",
              "      <td>greedy</td>\n",
              "      <td>implementation</td>\n",
              "      <td>NaN</td>\n",
              "      <td>cooler_killer</td>\n",
              "      <td>CONTESTANT</td>\n",
              "      <td>OK</td>\n",
              "    </tr>\n",
              "  </tbody>\n",
              "</table>\n",
              "<p>312 rows × 9 columns</p>\n",
              "</div>\n",
              "      <button class=\"colab-df-convert\" onclick=\"convertToInteractive('df-929839bf-632e-4f10-8d7f-c305f164b94d')\"\n",
              "              title=\"Convert this dataframe to an interactive table.\"\n",
              "              style=\"display:none;\">\n",
              "        \n",
              "  <svg xmlns=\"http://www.w3.org/2000/svg\" height=\"24px\"viewBox=\"0 0 24 24\"\n",
              "       width=\"24px\">\n",
              "    <path d=\"M0 0h24v24H0V0z\" fill=\"none\"/>\n",
              "    <path d=\"M18.56 5.44l.94 2.06.94-2.06 2.06-.94-2.06-.94-.94-2.06-.94 2.06-2.06.94zm-11 1L8.5 8.5l.94-2.06 2.06-.94-2.06-.94L8.5 2.5l-.94 2.06-2.06.94zm10 10l.94 2.06.94-2.06 2.06-.94-2.06-.94-.94-2.06-.94 2.06-2.06.94z\"/><path d=\"M17.41 7.96l-1.37-1.37c-.4-.4-.92-.59-1.43-.59-.52 0-1.04.2-1.43.59L10.3 9.45l-7.72 7.72c-.78.78-.78 2.05 0 2.83L4 21.41c.39.39.9.59 1.41.59.51 0 1.02-.2 1.41-.59l7.78-7.78 2.81-2.81c.8-.78.8-2.07 0-2.86zM5.41 20L4 18.59l7.72-7.72 1.47 1.35L5.41 20z\"/>\n",
              "  </svg>\n",
              "      </button>\n",
              "      \n",
              "  <style>\n",
              "    .colab-df-container {\n",
              "      display:flex;\n",
              "      flex-wrap:wrap;\n",
              "      gap: 12px;\n",
              "    }\n",
              "\n",
              "    .colab-df-convert {\n",
              "      background-color: #E8F0FE;\n",
              "      border: none;\n",
              "      border-radius: 50%;\n",
              "      cursor: pointer;\n",
              "      display: none;\n",
              "      fill: #1967D2;\n",
              "      height: 32px;\n",
              "      padding: 0 0 0 0;\n",
              "      width: 32px;\n",
              "    }\n",
              "\n",
              "    .colab-df-convert:hover {\n",
              "      background-color: #E2EBFA;\n",
              "      box-shadow: 0px 1px 2px rgba(60, 64, 67, 0.3), 0px 1px 3px 1px rgba(60, 64, 67, 0.15);\n",
              "      fill: #174EA6;\n",
              "    }\n",
              "\n",
              "    [theme=dark] .colab-df-convert {\n",
              "      background-color: #3B4455;\n",
              "      fill: #D2E3FC;\n",
              "    }\n",
              "\n",
              "    [theme=dark] .colab-df-convert:hover {\n",
              "      background-color: #434B5C;\n",
              "      box-shadow: 0px 1px 3px 1px rgba(0, 0, 0, 0.15);\n",
              "      filter: drop-shadow(0px 1px 2px rgba(0, 0, 0, 0.3));\n",
              "      fill: #FFFFFF;\n",
              "    }\n",
              "  </style>\n",
              "\n",
              "      <script>\n",
              "        const buttonEl =\n",
              "          document.querySelector('#df-929839bf-632e-4f10-8d7f-c305f164b94d button.colab-df-convert');\n",
              "        buttonEl.style.display =\n",
              "          google.colab.kernel.accessAllowed ? 'block' : 'none';\n",
              "\n",
              "        async function convertToInteractive(key) {\n",
              "          const element = document.querySelector('#df-929839bf-632e-4f10-8d7f-c305f164b94d');\n",
              "          const dataTable =\n",
              "            await google.colab.kernel.invokeFunction('convertToInteractive',\n",
              "                                                     [key], {});\n",
              "          if (!dataTable) return;\n",
              "\n",
              "          const docLinkHtml = 'Like what you see? Visit the ' +\n",
              "            '<a target=\"_blank\" href=https://colab.research.google.com/notebooks/data_table.ipynb>data table notebook</a>'\n",
              "            + ' to learn more about interactive tables.';\n",
              "          element.innerHTML = '';\n",
              "          dataTable['output_type'] = 'display_data';\n",
              "          await google.colab.output.renderOutput(dataTable, element);\n",
              "          const docLink = document.createElement('div');\n",
              "          docLink.innerHTML = docLinkHtml;\n",
              "          element.appendChild(docLink);\n",
              "        }\n",
              "      </script>\n",
              "    </div>\n",
              "  </div>\n",
              "  "
            ]
          },
          "metadata": {},
          "execution_count": 53
        }
      ]
    },
    {
      "cell_type": "code",
      "source": [
        "df.to_csv('/drive/My Drive/shanks_problems.csv')"
      ],
      "metadata": {
        "id": "wOhm51mj5l7z"
      },
      "execution_count": 55,
      "outputs": []
    },
    {
      "cell_type": "code",
      "source": [
        ""
      ],
      "metadata": {
        "id": "J6kN455FC1Wy"
      },
      "execution_count": null,
      "outputs": []
    }
  ]
}